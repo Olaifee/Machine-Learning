{
 "cells": [
  {
   "cell_type": "code",
   "execution_count": 1,
   "metadata": {},
   "outputs": [],
   "source": [
    "import numpy as np\n",
    "import pandas as pd\n",
    "import seaborn as sns\n",
    "import matplotlib.pyplot as plt"
   ]
  },
  {
   "cell_type": "code",
   "execution_count": 2,
   "metadata": {},
   "outputs": [],
   "source": [
    "df = pd.read_csv('C:/Users/TALABI/Desktop/Sanddata.csv', header=0)"
   ]
  },
  {
   "cell_type": "code",
   "execution_count": 3,
   "metadata": {},
   "outputs": [
    {
     "data": {
      "text/plain": [
       "'C:\\\\Users\\\\TALABI\\\\Desktop\\\\Others\\\\4. ST Academy - SVM resource files\\\\Python Code'"
      ]
     },
     "execution_count": 3,
     "metadata": {},
     "output_type": "execute_result"
    }
   ],
   "source": [
    "pwd"
   ]
  },
  {
   "cell_type": "code",
   "execution_count": 4,
   "metadata": {},
   "outputs": [
    {
     "data": {
      "text/html": [
       "<div>\n",
       "<style scoped>\n",
       "    .dataframe tbody tr th:only-of-type {\n",
       "        vertical-align: middle;\n",
       "    }\n",
       "\n",
       "    .dataframe tbody tr th {\n",
       "        vertical-align: top;\n",
       "    }\n",
       "\n",
       "    .dataframe thead th {\n",
       "        text-align: right;\n",
       "    }\n",
       "</style>\n",
       "<table border=\"1\" class=\"dataframe\">\n",
       "  <thead>\n",
       "    <tr style=\"text-align: right;\">\n",
       "      <th></th>\n",
       "      <th>Vsl</th>\n",
       "      <th>Dpipe m</th>\n",
       "      <th>particle, m</th>\n",
       "      <th>rhos, kg/m3</th>\n",
       "      <th>Cv [v/v]</th>\n",
       "      <th>rhol, kg/m3</th>\n",
       "      <th>visco Pa.s</th>\n",
       "      <th>theta</th>\n",
       "      <th>Vc m/s</th>\n",
       "    </tr>\n",
       "  </thead>\n",
       "  <tbody>\n",
       "    <tr>\n",
       "      <th>0</th>\n",
       "      <td>0.425852</td>\n",
       "      <td>0.0254</td>\n",
       "      <td>0.000144</td>\n",
       "      <td>2650</td>\n",
       "      <td>0.0020</td>\n",
       "      <td>1000</td>\n",
       "      <td>0.001</td>\n",
       "      <td>0</td>\n",
       "      <td>0.425</td>\n",
       "    </tr>\n",
       "    <tr>\n",
       "      <th>1</th>\n",
       "      <td>0.477387</td>\n",
       "      <td>0.0254</td>\n",
       "      <td>0.000144</td>\n",
       "      <td>2650</td>\n",
       "      <td>0.0050</td>\n",
       "      <td>1000</td>\n",
       "      <td>0.001</td>\n",
       "      <td>0</td>\n",
       "      <td>0.475</td>\n",
       "    </tr>\n",
       "    <tr>\n",
       "      <th>2</th>\n",
       "      <td>0.528967</td>\n",
       "      <td>0.0254</td>\n",
       "      <td>0.000144</td>\n",
       "      <td>2650</td>\n",
       "      <td>0.0075</td>\n",
       "      <td>1000</td>\n",
       "      <td>0.001</td>\n",
       "      <td>0</td>\n",
       "      <td>0.525</td>\n",
       "    </tr>\n",
       "    <tr>\n",
       "      <th>3</th>\n",
       "      <td>0.757576</td>\n",
       "      <td>0.0254</td>\n",
       "      <td>0.000144</td>\n",
       "      <td>2650</td>\n",
       "      <td>0.0100</td>\n",
       "      <td>1000</td>\n",
       "      <td>0.001</td>\n",
       "      <td>0</td>\n",
       "      <td>0.750</td>\n",
       "    </tr>\n",
       "    <tr>\n",
       "      <th>4</th>\n",
       "      <td>1.105263</td>\n",
       "      <td>0.0254</td>\n",
       "      <td>0.000144</td>\n",
       "      <td>2650</td>\n",
       "      <td>0.0500</td>\n",
       "      <td>1000</td>\n",
       "      <td>0.001</td>\n",
       "      <td>0</td>\n",
       "      <td>1.050</td>\n",
       "    </tr>\n",
       "  </tbody>\n",
       "</table>\n",
       "</div>"
      ],
      "text/plain": [
       "        Vsl  Dpipe m  particle, m  rhos, kg/m3  Cv [v/v]  rhol, kg/m3  \\\n",
       "0  0.425852   0.0254     0.000144         2650    0.0020         1000   \n",
       "1  0.477387   0.0254     0.000144         2650    0.0050         1000   \n",
       "2  0.528967   0.0254     0.000144         2650    0.0075         1000   \n",
       "3  0.757576   0.0254     0.000144         2650    0.0100         1000   \n",
       "4  1.105263   0.0254     0.000144         2650    0.0500         1000   \n",
       "\n",
       "   visco Pa.s  theta  Vc m/s  \n",
       "0       0.001      0   0.425  \n",
       "1       0.001      0   0.475  \n",
       "2       0.001      0   0.525  \n",
       "3       0.001      0   0.750  \n",
       "4       0.001      0   1.050  "
      ]
     },
     "execution_count": 4,
     "metadata": {},
     "output_type": "execute_result"
    }
   ],
   "source": [
    "df.head()"
   ]
  },
  {
   "cell_type": "code",
   "execution_count": 5,
   "metadata": {},
   "outputs": [
    {
     "name": "stdout",
     "output_type": "stream",
     "text": [
      "<class 'pandas.core.frame.DataFrame'>\n",
      "RangeIndex: 182 entries, 0 to 181\n",
      "Data columns (total 9 columns):\n",
      " #   Column       Non-Null Count  Dtype  \n",
      "---  ------       --------------  -----  \n",
      " 0   Vsl          182 non-null    float64\n",
      " 1   Dpipe m      182 non-null    float64\n",
      " 2   particle, m  182 non-null    float64\n",
      " 3   rhos, kg/m3  182 non-null    int64  \n",
      " 4   Cv [v/v]     182 non-null    float64\n",
      " 5   rhol, kg/m3  182 non-null    int64  \n",
      " 6   visco Pa.s   182 non-null    float64\n",
      " 7   theta        182 non-null    int64  \n",
      " 8   Vc m/s       182 non-null    float64\n",
      "dtypes: float64(6), int64(3)\n",
      "memory usage: 12.9 KB\n"
     ]
    }
   ],
   "source": [
    "df.info()"
   ]
  },
  {
   "cell_type": "code",
   "execution_count": 6,
   "metadata": {},
   "outputs": [
    {
     "data": {
      "text/html": [
       "<div>\n",
       "<style scoped>\n",
       "    .dataframe tbody tr th:only-of-type {\n",
       "        vertical-align: middle;\n",
       "    }\n",
       "\n",
       "    .dataframe tbody tr th {\n",
       "        vertical-align: top;\n",
       "    }\n",
       "\n",
       "    .dataframe thead th {\n",
       "        text-align: right;\n",
       "    }\n",
       "</style>\n",
       "<table border=\"1\" class=\"dataframe\">\n",
       "  <thead>\n",
       "    <tr style=\"text-align: right;\">\n",
       "      <th></th>\n",
       "      <th>Vsl</th>\n",
       "      <th>Dpipe m</th>\n",
       "      <th>particle, m</th>\n",
       "      <th>rhos, kg/m3</th>\n",
       "      <th>Cv [v/v]</th>\n",
       "      <th>rhol, kg/m3</th>\n",
       "      <th>visco Pa.s</th>\n",
       "      <th>theta</th>\n",
       "      <th>Vc m/s</th>\n",
       "    </tr>\n",
       "  </thead>\n",
       "  <tbody>\n",
       "    <tr>\n",
       "      <th>count</th>\n",
       "      <td>182.000000</td>\n",
       "      <td>182.000000</td>\n",
       "      <td>182.000000</td>\n",
       "      <td>182.0</td>\n",
       "      <td>182.000000</td>\n",
       "      <td>182.000000</td>\n",
       "      <td>182.000000</td>\n",
       "      <td>182.000000</td>\n",
       "      <td>182.000000</td>\n",
       "    </tr>\n",
       "    <tr>\n",
       "      <th>mean</th>\n",
       "      <td>2.117932</td>\n",
       "      <td>0.100145</td>\n",
       "      <td>0.000369</td>\n",
       "      <td>2650.0</td>\n",
       "      <td>0.120112</td>\n",
       "      <td>992.401099</td>\n",
       "      <td>0.001291</td>\n",
       "      <td>4.510989</td>\n",
       "      <td>1.636426</td>\n",
       "    </tr>\n",
       "    <tr>\n",
       "      <th>std</th>\n",
       "      <td>1.805176</td>\n",
       "      <td>0.090519</td>\n",
       "      <td>0.000370</td>\n",
       "      <td>0.0</td>\n",
       "      <td>0.142724</td>\n",
       "      <td>75.576887</td>\n",
       "      <td>0.002350</td>\n",
       "      <td>11.365713</td>\n",
       "      <td>1.009161</td>\n",
       "    </tr>\n",
       "    <tr>\n",
       "      <th>min</th>\n",
       "      <td>0.070008</td>\n",
       "      <td>0.009398</td>\n",
       "      <td>0.000100</td>\n",
       "      <td>2650.0</td>\n",
       "      <td>0.000020</td>\n",
       "      <td>3.000000</td>\n",
       "      <td>0.001000</td>\n",
       "      <td>-25.000000</td>\n",
       "      <td>0.070000</td>\n",
       "    </tr>\n",
       "    <tr>\n",
       "      <th>25%</th>\n",
       "      <td>0.798506</td>\n",
       "      <td>0.050800</td>\n",
       "      <td>0.000200</td>\n",
       "      <td>2650.0</td>\n",
       "      <td>0.010000</td>\n",
       "      <td>1000.000000</td>\n",
       "      <td>0.001000</td>\n",
       "      <td>0.000000</td>\n",
       "      <td>0.765092</td>\n",
       "    </tr>\n",
       "    <tr>\n",
       "      <th>50%</th>\n",
       "      <td>1.521253</td>\n",
       "      <td>0.100000</td>\n",
       "      <td>0.000360</td>\n",
       "      <td>2650.0</td>\n",
       "      <td>0.100000</td>\n",
       "      <td>1000.000000</td>\n",
       "      <td>0.001000</td>\n",
       "      <td>0.000000</td>\n",
       "      <td>1.433610</td>\n",
       "    </tr>\n",
       "    <tr>\n",
       "      <th>75%</th>\n",
       "      <td>2.989264</td>\n",
       "      <td>0.100000</td>\n",
       "      <td>0.000360</td>\n",
       "      <td>2650.0</td>\n",
       "      <td>0.120000</td>\n",
       "      <td>1000.000000</td>\n",
       "      <td>0.001000</td>\n",
       "      <td>10.000000</td>\n",
       "      <td>2.497937</td>\n",
       "    </tr>\n",
       "    <tr>\n",
       "      <th>max</th>\n",
       "      <td>8.371575</td>\n",
       "      <td>0.701040</td>\n",
       "      <td>0.003700</td>\n",
       "      <td>2650.0</td>\n",
       "      <td>0.600000</td>\n",
       "      <td>1000.000000</td>\n",
       "      <td>0.027000</td>\n",
       "      <td>30.000000</td>\n",
       "      <td>4.400000</td>\n",
       "    </tr>\n",
       "  </tbody>\n",
       "</table>\n",
       "</div>"
      ],
      "text/plain": [
       "              Vsl     Dpipe m  particle, m  rhos, kg/m3    Cv [v/v]  \\\n",
       "count  182.000000  182.000000   182.000000        182.0  182.000000   \n",
       "mean     2.117932    0.100145     0.000369       2650.0    0.120112   \n",
       "std      1.805176    0.090519     0.000370          0.0    0.142724   \n",
       "min      0.070008    0.009398     0.000100       2650.0    0.000020   \n",
       "25%      0.798506    0.050800     0.000200       2650.0    0.010000   \n",
       "50%      1.521253    0.100000     0.000360       2650.0    0.100000   \n",
       "75%      2.989264    0.100000     0.000360       2650.0    0.120000   \n",
       "max      8.371575    0.701040     0.003700       2650.0    0.600000   \n",
       "\n",
       "       rhol, kg/m3  visco Pa.s       theta      Vc m/s  \n",
       "count   182.000000  182.000000  182.000000  182.000000  \n",
       "mean    992.401099    0.001291    4.510989    1.636426  \n",
       "std      75.576887    0.002350   11.365713    1.009161  \n",
       "min       3.000000    0.001000  -25.000000    0.070000  \n",
       "25%    1000.000000    0.001000    0.000000    0.765092  \n",
       "50%    1000.000000    0.001000    0.000000    1.433610  \n",
       "75%    1000.000000    0.001000   10.000000    2.497937  \n",
       "max    1000.000000    0.027000   30.000000    4.400000  "
      ]
     },
     "execution_count": 6,
     "metadata": {},
     "output_type": "execute_result"
    }
   ],
   "source": [
    "df.describe()"
   ]
  },
  {
   "cell_type": "markdown",
   "metadata": {},
   "source": [
    "### Missing Value Imputation"
   ]
  },
  {
   "cell_type": "code",
   "execution_count": 205,
   "metadata": {},
   "outputs": [
    {
     "data": {
      "text/plain": [
       "2.117932043423076"
      ]
     },
     "execution_count": 205,
     "metadata": {},
     "output_type": "execute_result"
    }
   ],
   "source": [
    "df['Vsl'].mean()"
   ]
  },
  {
   "cell_type": "code",
   "execution_count": 8,
   "metadata": {},
   "outputs": [
    {
     "name": "stdout",
     "output_type": "stream",
     "text": [
      "<class 'pandas.core.frame.DataFrame'>\n",
      "RangeIndex: 182 entries, 0 to 181\n",
      "Data columns (total 9 columns):\n",
      " #   Column       Non-Null Count  Dtype  \n",
      "---  ------       --------------  -----  \n",
      " 0   Vsl          182 non-null    float64\n",
      " 1   Dpipe m      182 non-null    float64\n",
      " 2   particle, m  182 non-null    float64\n",
      " 3   rhos, kg/m3  182 non-null    int64  \n",
      " 4   Cv [v/v]     182 non-null    float64\n",
      " 5   rhol, kg/m3  182 non-null    int64  \n",
      " 6   visco Pa.s   182 non-null    float64\n",
      " 7   theta        182 non-null    int64  \n",
      " 8   Vc m/s       182 non-null    float64\n",
      "dtypes: float64(6), int64(3)\n",
      "memory usage: 12.9 KB\n"
     ]
    }
   ],
   "source": [
    "df.info()"
   ]
  },
  {
   "cell_type": "markdown",
   "metadata": {},
   "source": [
    "### Dummy Variable Creation"
   ]
  },
  {
   "cell_type": "code",
   "execution_count": 9,
   "metadata": {},
   "outputs": [
    {
     "data": {
      "text/html": [
       "<div>\n",
       "<style scoped>\n",
       "    .dataframe tbody tr th:only-of-type {\n",
       "        vertical-align: middle;\n",
       "    }\n",
       "\n",
       "    .dataframe tbody tr th {\n",
       "        vertical-align: top;\n",
       "    }\n",
       "\n",
       "    .dataframe thead th {\n",
       "        text-align: right;\n",
       "    }\n",
       "</style>\n",
       "<table border=\"1\" class=\"dataframe\">\n",
       "  <thead>\n",
       "    <tr style=\"text-align: right;\">\n",
       "      <th></th>\n",
       "      <th>Vsl</th>\n",
       "      <th>Dpipe m</th>\n",
       "      <th>particle, m</th>\n",
       "      <th>rhos, kg/m3</th>\n",
       "      <th>Cv [v/v]</th>\n",
       "      <th>rhol, kg/m3</th>\n",
       "      <th>visco Pa.s</th>\n",
       "      <th>theta</th>\n",
       "      <th>Vc m/s</th>\n",
       "    </tr>\n",
       "  </thead>\n",
       "  <tbody>\n",
       "    <tr>\n",
       "      <th>0</th>\n",
       "      <td>0.425852</td>\n",
       "      <td>0.0254</td>\n",
       "      <td>0.000144</td>\n",
       "      <td>2650</td>\n",
       "      <td>0.0020</td>\n",
       "      <td>1000</td>\n",
       "      <td>0.001</td>\n",
       "      <td>0</td>\n",
       "      <td>0.425</td>\n",
       "    </tr>\n",
       "    <tr>\n",
       "      <th>1</th>\n",
       "      <td>0.477387</td>\n",
       "      <td>0.0254</td>\n",
       "      <td>0.000144</td>\n",
       "      <td>2650</td>\n",
       "      <td>0.0050</td>\n",
       "      <td>1000</td>\n",
       "      <td>0.001</td>\n",
       "      <td>0</td>\n",
       "      <td>0.475</td>\n",
       "    </tr>\n",
       "    <tr>\n",
       "      <th>2</th>\n",
       "      <td>0.528967</td>\n",
       "      <td>0.0254</td>\n",
       "      <td>0.000144</td>\n",
       "      <td>2650</td>\n",
       "      <td>0.0075</td>\n",
       "      <td>1000</td>\n",
       "      <td>0.001</td>\n",
       "      <td>0</td>\n",
       "      <td>0.525</td>\n",
       "    </tr>\n",
       "    <tr>\n",
       "      <th>3</th>\n",
       "      <td>0.757576</td>\n",
       "      <td>0.0254</td>\n",
       "      <td>0.000144</td>\n",
       "      <td>2650</td>\n",
       "      <td>0.0100</td>\n",
       "      <td>1000</td>\n",
       "      <td>0.001</td>\n",
       "      <td>0</td>\n",
       "      <td>0.750</td>\n",
       "    </tr>\n",
       "    <tr>\n",
       "      <th>4</th>\n",
       "      <td>1.105263</td>\n",
       "      <td>0.0254</td>\n",
       "      <td>0.000144</td>\n",
       "      <td>2650</td>\n",
       "      <td>0.0500</td>\n",
       "      <td>1000</td>\n",
       "      <td>0.001</td>\n",
       "      <td>0</td>\n",
       "      <td>1.050</td>\n",
       "    </tr>\n",
       "  </tbody>\n",
       "</table>\n",
       "</div>"
      ],
      "text/plain": [
       "        Vsl  Dpipe m  particle, m  rhos, kg/m3  Cv [v/v]  rhol, kg/m3  \\\n",
       "0  0.425852   0.0254     0.000144         2650    0.0020         1000   \n",
       "1  0.477387   0.0254     0.000144         2650    0.0050         1000   \n",
       "2  0.528967   0.0254     0.000144         2650    0.0075         1000   \n",
       "3  0.757576   0.0254     0.000144         2650    0.0100         1000   \n",
       "4  1.105263   0.0254     0.000144         2650    0.0500         1000   \n",
       "\n",
       "   visco Pa.s  theta  Vc m/s  \n",
       "0       0.001      0   0.425  \n",
       "1       0.001      0   0.475  \n",
       "2       0.001      0   0.525  \n",
       "3       0.001      0   0.750  \n",
       "4       0.001      0   1.050  "
      ]
     },
     "execution_count": 9,
     "metadata": {},
     "output_type": "execute_result"
    }
   ],
   "source": [
    "df.head()"
   ]
  },
  {
   "cell_type": "code",
   "execution_count": 18,
   "metadata": {},
   "outputs": [],
   "source": [
    "del df['new_column']"
   ]
  },
  {
   "cell_type": "code",
   "execution_count": 19,
   "metadata": {},
   "outputs": [],
   "source": [
    "df = pd.get_dummies(df,drop_first = True)"
   ]
  },
  {
   "cell_type": "code",
   "execution_count": 20,
   "metadata": {},
   "outputs": [
    {
     "data": {
      "text/html": [
       "<div>\n",
       "<style scoped>\n",
       "    .dataframe tbody tr th:only-of-type {\n",
       "        vertical-align: middle;\n",
       "    }\n",
       "\n",
       "    .dataframe tbody tr th {\n",
       "        vertical-align: top;\n",
       "    }\n",
       "\n",
       "    .dataframe thead th {\n",
       "        text-align: right;\n",
       "    }\n",
       "</style>\n",
       "<table border=\"1\" class=\"dataframe\">\n",
       "  <thead>\n",
       "    <tr style=\"text-align: right;\">\n",
       "      <th></th>\n",
       "      <th>Vsl</th>\n",
       "      <th>Dpipe m</th>\n",
       "      <th>particle, m</th>\n",
       "      <th>rhos, kg/m3</th>\n",
       "      <th>Cv [v/v]</th>\n",
       "      <th>rhol, kg/m3</th>\n",
       "      <th>visco Pa.s</th>\n",
       "      <th>theta</th>\n",
       "      <th>Vc m/s</th>\n",
       "    </tr>\n",
       "  </thead>\n",
       "  <tbody>\n",
       "    <tr>\n",
       "      <th>0</th>\n",
       "      <td>0.425852</td>\n",
       "      <td>0.0254</td>\n",
       "      <td>0.000144</td>\n",
       "      <td>2650</td>\n",
       "      <td>0.0020</td>\n",
       "      <td>1000</td>\n",
       "      <td>0.001</td>\n",
       "      <td>0</td>\n",
       "      <td>0.425</td>\n",
       "    </tr>\n",
       "    <tr>\n",
       "      <th>1</th>\n",
       "      <td>0.477387</td>\n",
       "      <td>0.0254</td>\n",
       "      <td>0.000144</td>\n",
       "      <td>2650</td>\n",
       "      <td>0.0050</td>\n",
       "      <td>1000</td>\n",
       "      <td>0.001</td>\n",
       "      <td>0</td>\n",
       "      <td>0.475</td>\n",
       "    </tr>\n",
       "    <tr>\n",
       "      <th>2</th>\n",
       "      <td>0.528967</td>\n",
       "      <td>0.0254</td>\n",
       "      <td>0.000144</td>\n",
       "      <td>2650</td>\n",
       "      <td>0.0075</td>\n",
       "      <td>1000</td>\n",
       "      <td>0.001</td>\n",
       "      <td>0</td>\n",
       "      <td>0.525</td>\n",
       "    </tr>\n",
       "    <tr>\n",
       "      <th>3</th>\n",
       "      <td>0.757576</td>\n",
       "      <td>0.0254</td>\n",
       "      <td>0.000144</td>\n",
       "      <td>2650</td>\n",
       "      <td>0.0100</td>\n",
       "      <td>1000</td>\n",
       "      <td>0.001</td>\n",
       "      <td>0</td>\n",
       "      <td>0.750</td>\n",
       "    </tr>\n",
       "    <tr>\n",
       "      <th>4</th>\n",
       "      <td>1.105263</td>\n",
       "      <td>0.0254</td>\n",
       "      <td>0.000144</td>\n",
       "      <td>2650</td>\n",
       "      <td>0.0500</td>\n",
       "      <td>1000</td>\n",
       "      <td>0.001</td>\n",
       "      <td>0</td>\n",
       "      <td>1.050</td>\n",
       "    </tr>\n",
       "  </tbody>\n",
       "</table>\n",
       "</div>"
      ],
      "text/plain": [
       "        Vsl  Dpipe m  particle, m  rhos, kg/m3  Cv [v/v]  rhol, kg/m3  \\\n",
       "0  0.425852   0.0254     0.000144         2650    0.0020         1000   \n",
       "1  0.477387   0.0254     0.000144         2650    0.0050         1000   \n",
       "2  0.528967   0.0254     0.000144         2650    0.0075         1000   \n",
       "3  0.757576   0.0254     0.000144         2650    0.0100         1000   \n",
       "4  1.105263   0.0254     0.000144         2650    0.0500         1000   \n",
       "\n",
       "   visco Pa.s  theta  Vc m/s  \n",
       "0       0.001      0   0.425  \n",
       "1       0.001      0   0.475  \n",
       "2       0.001      0   0.525  \n",
       "3       0.001      0   0.750  \n",
       "4       0.001      0   1.050  "
      ]
     },
     "execution_count": 20,
     "metadata": {},
     "output_type": "execute_result"
    }
   ],
   "source": [
    "df.head()"
   ]
  },
  {
   "cell_type": "markdown",
   "metadata": {},
   "source": [
    "### X-y split"
   ]
  },
  {
   "cell_type": "code",
   "execution_count": 7,
   "metadata": {},
   "outputs": [
    {
     "data": {
      "text/plain": [
       "pandas.core.frame.DataFrame"
      ]
     },
     "execution_count": 7,
     "metadata": {},
     "output_type": "execute_result"
    }
   ],
   "source": [
    "X = df.iloc[:,df.columns != 'Vc m/s']\n",
    "type(X)"
   ]
  },
  {
   "cell_type": "code",
   "execution_count": 8,
   "metadata": {},
   "outputs": [
    {
     "data": {
      "text/html": [
       "<div>\n",
       "<style scoped>\n",
       "    .dataframe tbody tr th:only-of-type {\n",
       "        vertical-align: middle;\n",
       "    }\n",
       "\n",
       "    .dataframe tbody tr th {\n",
       "        vertical-align: top;\n",
       "    }\n",
       "\n",
       "    .dataframe thead th {\n",
       "        text-align: right;\n",
       "    }\n",
       "</style>\n",
       "<table border=\"1\" class=\"dataframe\">\n",
       "  <thead>\n",
       "    <tr style=\"text-align: right;\">\n",
       "      <th></th>\n",
       "      <th>Vsl</th>\n",
       "      <th>Dpipe m</th>\n",
       "      <th>particle, m</th>\n",
       "      <th>rhos, kg/m3</th>\n",
       "      <th>Cv [v/v]</th>\n",
       "      <th>rhol, kg/m3</th>\n",
       "      <th>visco Pa.s</th>\n",
       "      <th>theta</th>\n",
       "    </tr>\n",
       "  </thead>\n",
       "  <tbody>\n",
       "    <tr>\n",
       "      <th>0</th>\n",
       "      <td>0.425852</td>\n",
       "      <td>0.0254</td>\n",
       "      <td>0.000144</td>\n",
       "      <td>2650</td>\n",
       "      <td>0.0020</td>\n",
       "      <td>1000</td>\n",
       "      <td>0.001</td>\n",
       "      <td>0</td>\n",
       "    </tr>\n",
       "    <tr>\n",
       "      <th>1</th>\n",
       "      <td>0.477387</td>\n",
       "      <td>0.0254</td>\n",
       "      <td>0.000144</td>\n",
       "      <td>2650</td>\n",
       "      <td>0.0050</td>\n",
       "      <td>1000</td>\n",
       "      <td>0.001</td>\n",
       "      <td>0</td>\n",
       "    </tr>\n",
       "    <tr>\n",
       "      <th>2</th>\n",
       "      <td>0.528967</td>\n",
       "      <td>0.0254</td>\n",
       "      <td>0.000144</td>\n",
       "      <td>2650</td>\n",
       "      <td>0.0075</td>\n",
       "      <td>1000</td>\n",
       "      <td>0.001</td>\n",
       "      <td>0</td>\n",
       "    </tr>\n",
       "    <tr>\n",
       "      <th>3</th>\n",
       "      <td>0.757576</td>\n",
       "      <td>0.0254</td>\n",
       "      <td>0.000144</td>\n",
       "      <td>2650</td>\n",
       "      <td>0.0100</td>\n",
       "      <td>1000</td>\n",
       "      <td>0.001</td>\n",
       "      <td>0</td>\n",
       "    </tr>\n",
       "    <tr>\n",
       "      <th>4</th>\n",
       "      <td>1.105263</td>\n",
       "      <td>0.0254</td>\n",
       "      <td>0.000144</td>\n",
       "      <td>2650</td>\n",
       "      <td>0.0500</td>\n",
       "      <td>1000</td>\n",
       "      <td>0.001</td>\n",
       "      <td>0</td>\n",
       "    </tr>\n",
       "  </tbody>\n",
       "</table>\n",
       "</div>"
      ],
      "text/plain": [
       "        Vsl  Dpipe m  particle, m  rhos, kg/m3  Cv [v/v]  rhol, kg/m3  \\\n",
       "0  0.425852   0.0254     0.000144         2650    0.0020         1000   \n",
       "1  0.477387   0.0254     0.000144         2650    0.0050         1000   \n",
       "2  0.528967   0.0254     0.000144         2650    0.0075         1000   \n",
       "3  0.757576   0.0254     0.000144         2650    0.0100         1000   \n",
       "4  1.105263   0.0254     0.000144         2650    0.0500         1000   \n",
       "\n",
       "   visco Pa.s  theta  \n",
       "0       0.001      0  \n",
       "1       0.001      0  \n",
       "2       0.001      0  \n",
       "3       0.001      0  \n",
       "4       0.001      0  "
      ]
     },
     "execution_count": 8,
     "metadata": {},
     "output_type": "execute_result"
    }
   ],
   "source": [
    "X.head()"
   ]
  },
  {
   "cell_type": "code",
   "execution_count": 9,
   "metadata": {},
   "outputs": [
    {
     "data": {
      "text/plain": [
       "(182, 8)"
      ]
     },
     "execution_count": 9,
     "metadata": {},
     "output_type": "execute_result"
    }
   ],
   "source": [
    "X.shape"
   ]
  },
  {
   "cell_type": "code",
   "execution_count": 10,
   "metadata": {},
   "outputs": [
    {
     "data": {
      "text/plain": [
       "pandas.core.series.Series"
      ]
     },
     "execution_count": 10,
     "metadata": {},
     "output_type": "execute_result"
    }
   ],
   "source": [
    "y = df['Vc m/s']\n",
    "type(y)"
   ]
  },
  {
   "cell_type": "code",
   "execution_count": 69,
   "metadata": {},
   "outputs": [
    {
     "data": {
      "text/plain": [
       "0    0.425\n",
       "1    0.475\n",
       "2    0.525\n",
       "3    0.750\n",
       "4    1.050\n",
       "Name: Vc m/s, dtype: float64"
      ]
     },
     "execution_count": 69,
     "metadata": {},
     "output_type": "execute_result"
    }
   ],
   "source": [
    "y.head()"
   ]
  },
  {
   "cell_type": "code",
   "execution_count": 11,
   "metadata": {},
   "outputs": [
    {
     "data": {
      "text/plain": [
       "(182,)"
      ]
     },
     "execution_count": 11,
     "metadata": {},
     "output_type": "execute_result"
    }
   ],
   "source": [
    "y.shape"
   ]
  },
  {
   "cell_type": "markdown",
   "metadata": {},
   "source": [
    "### Test-Train Split"
   ]
  },
  {
   "cell_type": "code",
   "execution_count": 12,
   "metadata": {},
   "outputs": [],
   "source": [
    "from sklearn.preprocessing import StandardScaler\n"
   ]
  },
  {
   "cell_type": "code",
   "execution_count": 38,
   "metadata": {},
   "outputs": [],
   "source": [
    "sc = StandardScaler().fit(X)\n",
    "X_scaled = sc.transform(X)\n",
    "X_test_std =sc.transform(X)"
   ]
  },
  {
   "cell_type": "code",
   "execution_count": 39,
   "metadata": {},
   "outputs": [],
   "source": [
    "from sklearn.model_selection import train_test_split"
   ]
  },
  {
   "cell_type": "code",
   "execution_count": 40,
   "metadata": {},
   "outputs": [],
   "source": [
    "X_train, X_test, y_train, y_test = train_test_split(X_scaled,y, test_size= 0.20, random_state= 42)"
   ]
  },
  {
   "cell_type": "code",
   "execution_count": 41,
   "metadata": {},
   "outputs": [
    {
     "data": {
      "text/plain": [
       "(145, 8)"
      ]
     },
     "execution_count": 41,
     "metadata": {},
     "output_type": "execute_result"
    }
   ],
   "source": [
    "X_train.shape"
   ]
  },
  {
   "cell_type": "code",
   "execution_count": 42,
   "metadata": {},
   "outputs": [
    {
     "data": {
      "text/plain": [
       "(37, 8)"
      ]
     },
     "execution_count": 42,
     "metadata": {},
     "output_type": "execute_result"
    }
   ],
   "source": [
    "X_test.shape"
   ]
  },
  {
   "cell_type": "code",
   "execution_count": 43,
   "metadata": {},
   "outputs": [
    {
     "data": {
      "text/plain": [
       "(37,)"
      ]
     },
     "execution_count": 43,
     "metadata": {},
     "output_type": "execute_result"
    }
   ],
   "source": [
    "y_test.shape"
   ]
  },
  {
   "cell_type": "code",
   "execution_count": 57,
   "metadata": {},
   "outputs": [
    {
     "data": {
      "text/plain": [
       "(182, 8)"
      ]
     },
     "execution_count": 57,
     "metadata": {},
     "output_type": "execute_result"
    }
   ],
   "source": [
    "X_scaled.shape"
   ]
  },
  {
   "cell_type": "markdown",
   "metadata": {},
   "source": [
    "### Standardizing Data"
   ]
  },
  {
   "cell_type": "code",
   "execution_count": 85,
   "metadata": {},
   "outputs": [],
   "source": [
    "from sklearn.svm import SVR, LinearSVR"
   ]
  },
  {
   "cell_type": "code",
   "execution_count": 87,
   "metadata": {},
   "outputs": [
    {
     "data": {
      "text/plain": [
       "SVR(C=3000, kernel='linear')"
      ]
     },
     "execution_count": 87,
     "metadata": {},
     "output_type": "execute_result"
    }
   ],
   "source": [
    "model = SVR()\n",
    "model.fit(X_train, y_train)\n",
    "SVR(kernel='linear', C = 3000).fit(X_train,y_train)"
   ]
  },
  {
   "cell_type": "code",
   "execution_count": 46,
   "metadata": {},
   "outputs": [],
   "source": [
    "from sklearn.metrics import r2_score, mean_squared_error\n",
    "preds = model.predict(X_test)"
   ]
  },
  {
   "cell_type": "code",
   "execution_count": 47,
   "metadata": {},
   "outputs": [
    {
     "data": {
      "text/plain": [
       "65     3.00155\n",
       "67     3.15215\n",
       "31     1.43009\n",
       "12     0.88000\n",
       "41     1.70962\n",
       "        ...   \n",
       "106    2.00000\n",
       "14     0.72524\n",
       "92     0.95000\n",
       "179    0.79000\n",
       "102    1.90000\n",
       "Name: Vc m/s, Length: 145, dtype: float64"
      ]
     },
     "execution_count": 47,
     "metadata": {},
     "output_type": "execute_result"
    }
   ],
   "source": [
    "y_train"
   ]
  },
  {
   "cell_type": "code",
   "execution_count": 82,
   "metadata": {},
   "outputs": [
    {
     "data": {
      "text/plain": [
       "0.08828126455631617"
      ]
     },
     "execution_count": 82,
     "metadata": {},
     "output_type": "execute_result"
    }
   ],
   "source": [
    "mean_squared_error(preds,y_test)"
   ]
  },
  {
   "cell_type": "code",
   "execution_count": 81,
   "metadata": {},
   "outputs": [
    {
     "data": {
      "text/plain": [
       "0.03437222023999778"
      ]
     },
     "execution_count": 81,
     "metadata": {},
     "output_type": "execute_result"
    }
   ],
   "source": [
    "mean_squared_error(preds3,y)"
   ]
  },
  {
   "cell_type": "code",
   "execution_count": 49,
   "metadata": {},
   "outputs": [
    {
     "data": {
      "text/plain": [
       "0.8985199249040966"
      ]
     },
     "execution_count": 49,
     "metadata": {},
     "output_type": "execute_result"
    }
   ],
   "source": [
    "r2_score(preds, y_test)"
   ]
  },
  {
   "cell_type": "code",
   "execution_count": 61,
   "metadata": {},
   "outputs": [],
   "source": [
    "preds2 = model.predict(X_train)"
   ]
  },
  {
   "cell_type": "code",
   "execution_count": 65,
   "metadata": {},
   "outputs": [
    {
     "data": {
      "text/plain": [
       "0.9758901115460279"
      ]
     },
     "execution_count": 65,
     "metadata": {},
     "output_type": "execute_result"
    }
   ],
   "source": [
    "r2_score(preds2,y_train)"
   ]
  },
  {
   "cell_type": "code",
   "execution_count": 52,
   "metadata": {},
   "outputs": [],
   "source": [
    "preds3 = model.predict(X_scaled)"
   ]
  },
  {
   "cell_type": "code",
   "execution_count": 66,
   "metadata": {},
   "outputs": [
    {
     "data": {
      "text/plain": [
       "0.9599445322917824"
      ]
     },
     "execution_count": 66,
     "metadata": {},
     "output_type": "execute_result"
    }
   ],
   "source": [
    "r2_score(preds3,y)"
   ]
  },
  {
   "cell_type": "code",
   "execution_count": 74,
   "metadata": {},
   "outputs": [],
   "source": [
    "sns.set()"
   ]
  },
  {
   "cell_type": "code",
   "execution_count": 75,
   "metadata": {},
   "outputs": [
    {
     "data": {
      "image/png": "[encoded data removed]",
      "text/plain": [
       "<Figure size 864x360 with 1 Axes>"
      ]
     },
     "metadata": {},
     "output_type": "display_data"
    }
   ],
   "source": [
    "fig, ax = plt.subplots(1,1, figsize= (12,5))\n",
    "plt.plot(y_train,y_train)\n",
    "plt.scatter(preds2, y_train)\n",
    "plt.xlabel('Newly predicted values')\n",
    "plt.ylabel('Actual')\n",
    "plt.title('Trained Network')\n",
    "plt.savefig('Train.jpg', bbox_inches= 'tight')"
   ]
  },
  {
   "cell_type": "code",
   "execution_count": 78,
   "metadata": {},
   "outputs": [
    {
     "data": {
      "image/png": "[encoded data removed]",
      "text/plain": [
       "<Figure size 864x360 with 1 Axes>"
      ]
     },
     "metadata": {},
     "output_type": "display_data"
    }
   ],
   "source": [
    "fig, ax = plt.subplots(1,1, figsize= (12,5))\n",
    "plt.plot(y,y)\n",
    "plt.scatter(preds3, y)\n",
    "plt.xlabel('Newly predicted values')\n",
    "plt.ylabel('Actual')\n",
    "plt.title('SVR final')\n",
    "plt.savefig('Main.jpg', bbox_inches = 'tight')"
   ]
  }
 ],
 "metadata": {
  "kernelspec": {
   "display_name": "Python 3",
   "language": "python",
   "name": "python3"
  },
  "language_info": {
   "codemirror_mode": {
    "name": "ipython",
    "version": 3
   },
   "file_extension": ".py",
   "mimetype": "text/x-python",
   "name": "python",
   "nbconvert_exporter": "python",
   "pygments_lexer": "ipython3",
   "version": "3.8.8"
  }
 },
 "nbformat": 4,
 "nbformat_minor": 2
}
